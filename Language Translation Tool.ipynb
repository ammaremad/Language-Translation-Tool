{
 "cells": [
  {
   "cell_type": "markdown",
   "id": "f22f3088",
   "metadata": {},
   "source": [
    "# Import libraries"
   ]
  },
  {
   "cell_type": "code",
   "execution_count": 17,
   "id": "f67bbc78",
   "metadata": {},
   "outputs": [],
   "source": [
    "import tkinter as tk\n",
    "from tkinter import messagebox\n",
    "import requests"
   ]
  },
  {
   "cell_type": "markdown",
   "id": "82a589e1",
   "metadata": {},
   "source": [
    "# DeepL_Translator & API"
   ]
  },
  {
   "cell_type": "code",
   "execution_count": 18,
   "id": "b5fccb54",
   "metadata": {},
   "outputs": [],
   "source": [
    "def deepl_translate(text, source_language=\"EN\", target_language=\"EN\"):\n",
    "    \"\"\"\n",
    "    This function translates the given text to the target language using the DeepL API.\n",
    "    \n",
    "    :param text: The text to be translated\n",
    "    :param source_language: The language code of the source language (e.g., 'EN' for English, 'DE' for German, 'AR' for Arabic)\n",
    "    :param target_language: The language code of the target language (e.g., 'EN' for English, 'DE' for German, 'AR' for Arabic)\n",
    "    :return: Translated text or error message\n",
    "    \"\"\"\n",
    "    # Your DeepL API key here\n",
    "    api_key = \"write your key\"  \n",
    "    url = f\"https://api-free.deepl.com/v2/translate?auth_key={api_key}&text={text}&source_lang={source_language}&target_lang={target_language}\"\n",
    "\n",
    "    try:\n",
    "        # Send the request to DeepL API\n",
    "        response = requests.get(url)\n",
    "        \n",
    "        # Check if the response is successful\n",
    "        if response.status_code == 200:\n",
    "            # Return the translated text\n",
    "            return response.json()['translations'][0]['text']\n",
    "        else:\n",
    "            # If there's an error, display a meaningful error message\n",
    "            return f\"Error: {response.status_code} - {response.json().get('message', 'Unknown error')}\"\n",
    "    \n",
    "    except requests.exceptions.RequestException as e:\n",
    "        # Handle any network or connection issues\n",
    "        return f\"An error occurred while trying to reach the DeepL API: {e}\""
   ]
  },
  {
   "cell_type": "markdown",
   "id": "855ddfca",
   "metadata": {},
   "source": [
    "# Translate Function:"
   ]
  },
  {
   "cell_type": "code",
   "execution_count": 19,
   "id": "c998f2fd",
   "metadata": {},
   "outputs": [],
   "source": [
    "def translate_text():\n",
    "    # Get the text input by the user\n",
    "    text = text_input.get(\"1.0\", \"end-1c\")  # Get multi-line input\n",
    "    \n",
    "    # Get the selected source and target languages\n",
    "    source_language = source_language_var.get().upper()\n",
    "    target_language = target_language_var.get().upper()\n",
    "\n",
    "    # Validate the input\n",
    "    if not text.strip():\n",
    "        messagebox.showerror(\"Input Error\", \"Please enter some text to translate.\")\n",
    "        return\n",
    "\n",
    "    # Translate the text\n",
    "    translated_text = deepl_translate(text, source_language, target_language)\n",
    "    \n",
    "    # Display the translated text in the result box\n",
    "    result_output.config(state=tk.NORMAL)  # Enable text box for editing\n",
    "    result_output.delete(1.0, tk.END)  # Clear previous text\n",
    "    result_output.insert(tk.END, translated_text)  # Insert translated text\n",
    "    result_output.config(state=tk.DISABLED)  # Disable editing again"
   ]
  },
  {
   "cell_type": "markdown",
   "id": "7d3bc329",
   "metadata": {},
   "source": [
    "# `GUI`"
   ]
  },
  {
   "cell_type": "code",
   "execution_count": 21,
   "id": "707cc16a",
   "metadata": {},
   "outputs": [],
   "source": [
    "def create_gui():\n",
    "    # Set up the main window\n",
    "    root = tk.Tk()\n",
    "    root.title(\"Language Translation Tool\")\n",
    "\n",
    "    # Add a label for the text input\n",
    "    tk.Label(root, text=\"Enter text to translate:\").pack(pady=10)\n",
    "\n",
    "    # Text box for user to enter text\n",
    "    global text_input\n",
    "    text_input = tk.Text(root, height=6, width=50)\n",
    "    text_input.pack(pady=10)\n",
    "\n",
    "    # Add a label for selecting source language\n",
    "    tk.Label(root, text=\"Select source language:\").pack(pady=10)\n",
    "\n",
    "    # Dropdown menu for selecting the source language (language to write in)\n",
    "    global source_language_var\n",
    "    source_language_var = tk.StringVar(value=\"EN\")  # Default language is English\n",
    "    languages = ['EN', 'DE', 'FR', 'ES', 'IT', 'PL', 'RU', 'PT', 'NL', 'AR', 'ZH', 'JA', 'HI']  # List of supported languages\n",
    "    source_language_menu = tk.OptionMenu(root, source_language_var, *languages)\n",
    "    source_language_menu.pack(pady=10)\n",
    "\n",
    "    # Add a label for selecting target language\n",
    "    tk.Label(root, text=\"Select target language:\").pack(pady=10)\n",
    "\n",
    "    # Dropdown menu for selecting the target language (language to translate to)\n",
    "    global target_language_var\n",
    "    target_language_var = tk.StringVar(value=\"EN\")  # Default language is English\n",
    "    target_language_menu = tk.OptionMenu(root, target_language_var, *languages)\n",
    "    target_language_menu.pack(pady=10)\n",
    "\n",
    "    # Button to trigger translation\n",
    "    translate_button = tk.Button(root, text=\"Translate\", command=translate_text)\n",
    "    translate_button.pack(pady=10)\n",
    "\n",
    "    # Label for showing translated text\n",
    "    tk.Label(root, text=\"Translated text:\").pack(pady=10)\n",
    "\n",
    "    # Output box for translated text\n",
    "    global result_output\n",
    "    result_output = tk.Text(root, height=6, width=50, wrap=tk.WORD, state=tk.DISABLED)\n",
    "    result_output.pack(pady=10)\n",
    "\n",
    "    # Run the GUI loop\n",
    "    root.mainloop()\n",
    "\n",
    "# Run the GUI application\n",
    "if __name__ == \"__main__\":\n",
    "    create_gui()\n"
   ]
  },
  {
   "cell_type": "markdown",
   "id": "e1d25b02",
   "metadata": {},
   "source": [
    "# Summary\n",
    "\n",
    "The project is a language translation tool developed using Python's Tkinter library for the graphical user interface (GUI) and the DeepL API for translation services. The application allows users to input text, select source and target languages from a dropdown menu, and receive translated text.\n",
    "\n",
    "### Key Features:\n",
    "1. **Text Input**: Users can enter multi-line text for translation.\n",
    "2. **Language Selection**: The tool supports multiple languages, including English, German, French, Spanish, Italian, Polish, Russian, Portuguese, Dutch, Arabic, Chinese, Japanese, and Hindi. Users can select both the source and target languages.\n",
    "3. **Translation Functionality**: The translation is performed by sending a request to the DeepL API, which returns the translated text. The application handles errors gracefully, displaying appropriate messages for input errors or API issues.\n",
    "4. **Output Display**: The translated text is shown in a read-only text box, preventing further editing after translation.\n",
    "5. **User Interface**: The GUI is designed to be user-friendly, with labels, buttons, and text boxes arranged for easy interaction.\n",
    "\n",
    "### Technical Implementation:\n",
    "- The project uses the `requests` library to interact with the DeepL API.\n",
    "- It includes error handling for network issues and API response errors.\n",
    "- The main GUI loop is initiated at the end of the script, allowing the application to run continuously until closed by the user.\n",
    "\n",
    "Overall, this project provides a simple yet effective tool for translating text between various languages using a well-known translation service."
   ]
  }
 ],
 "metadata": {
  "kernelspec": {
   "display_name": "Python 3 (ipykernel)",
   "language": "python",
   "name": "python3"
  },
  "language_info": {
   "codemirror_mode": {
    "name": "ipython",
    "version": 3
   },
   "file_extension": ".py",
   "mimetype": "text/x-python",
   "name": "python",
   "nbconvert_exporter": "python",
   "pygments_lexer": "ipython3",
   "version": "3.11.7"
  }
 },
 "nbformat": 4,
 "nbformat_minor": 5
}
